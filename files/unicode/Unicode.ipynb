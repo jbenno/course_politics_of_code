{
 "cells": [
  {
   "cell_type": "code",
   "execution_count": 1,
   "id": "305f5168",
   "metadata": {},
   "outputs": [
    {
     "data": {
      "text/plain": [
       "'moon'"
      ]
     },
     "execution_count": 1,
     "metadata": {},
     "output_type": "execute_result"
    }
   ],
   "source": [
    "import math\n",
    "\n",
    "# λ\n",
    "# moon\n",
    "# ψυχη\n",
    "# 次は山手\n",
    "\n",
    "text = \"moon\" # string we will use in the following cells\n",
    "text"
   ]
  },
  {
   "cell_type": "code",
   "execution_count": 2,
   "id": "769837e1",
   "metadata": {},
   "outputs": [
    {
     "name": "stdout",
     "output_type": "stream",
     "text": [
      "Character 1: m, Unicode Code Point: U+006D, Binary: 0000000001101101\n",
      "Character 2: o, Unicode Code Point: U+006F, Binary: 0000000001101111\n",
      "Character 3: o, Unicode Code Point: U+006F, Binary: 0000000001101111\n",
      "Character 4: n, Unicode Code Point: U+006E, Binary: 0000000001101110\n"
     ]
    }
   ],
   "source": [
    "# The individual Unicode code points\n",
    "\n",
    "j = 1\n",
    "for char in text:\n",
    "    code_point = ord(char)\n",
    "    print(f\"Character {j}: {char}, Unicode Code Point: U+{code_point:04X}, Binary: {code_point:016b}\")\n",
    "    j = j+1"
   ]
  },
  {
   "cell_type": "code",
   "execution_count": 3,
   "id": "68f4009c",
   "metadata": {},
   "outputs": [
    {
     "name": "stdout",
     "output_type": "stream",
     "text": [
      " Demo for UTF-8 with the string 'moon'\n",
      "6d6f6f6e\n",
      "UTF-8 Bits:\n",
      "Byte  1 - 01101101\n",
      "Byte  2 - 01101111\n",
      "Byte  3 - 01101111\n",
      "Byte  4 - 01101110\n",
      "Decoded Text: moon\n"
     ]
    }
   ],
   "source": [
    "# Unicode demo for UTF-8\n",
    "\n",
    "import math\n",
    "\n",
    "utf8_bytes = text.encode('utf-8') # Encode the string to UTF-8 bytes\n",
    "hex_text = utf8_bytes.hex() # UTF-8 bytes in hex\n",
    "\n",
    "print(f\" Demo for UTF-8 with the string '{text}'\")\n",
    "print(hex_text)\n",
    "\n",
    "# Iterate through the bytes and print their binary representation\n",
    "i = 1\n",
    "print(\"UTF-8 Bits:\")\n",
    "for byte in utf8_bytes:\n",
    "    print(f\"Byte {i:2d} - {byte:08b}\")\n",
    "    i = i + 1\n",
    "\n",
    "decoded_text = utf8_bytes.decode('utf-8') # Decode the UTF-8 bytes back to a Unicode string\n",
    "print(f\"Decoded Text: {decoded_text}\")"
   ]
  },
  {
   "cell_type": "code",
   "execution_count": null,
   "id": "a81fe23a",
   "metadata": {},
   "outputs": [],
   "source": [
    "# Unicode demo for UTF-16 default (little endian with prefix)\n",
    "\n",
    "utf16_bytes = text.encode('utf-16') # Encode the string to UTF-16 bytes\n",
    "hex_text = utf16_bytes.hex() # UTF-16 bytes in hex\n",
    "\n",
    "print(f\" Demo for UTF-16 default with the string '{text}'\")\n",
    "print(hex_text)\n",
    "\n",
    "# Iterate through the bytes and print their binary representation\n",
    "i = 1\n",
    "print(\"UTF-16 Bits:\")\n",
    "for byte in utf16_bytes:\n",
    "    print(f\"Byte {i:2d} - {byte:08b}\")\n",
    "    i = i + 1\n",
    "\n",
    "decoded_text = utf16_bytes.decode('utf-16') # Decode the UTF-16 bytes back to a Unicode string\n",
    "print(f\"Decoded Text: {decoded_text}\")"
   ]
  },
  {
   "cell_type": "code",
   "execution_count": null,
   "id": "fe18dea9",
   "metadata": {},
   "outputs": [],
   "source": [
    "# Unicode demo for UTF-16 little endian\n",
    "\n",
    "utf16le_bytes = text.encode('utf-16-le') # Encode the string to UTF-16 little endian bytes\n",
    "hex_text = utf16le_bytes.hex() # UTF-16 bytes in hex\n",
    "\n",
    "print(f\" Demo for UTF-16 little endian with the string '{text}'\")\n",
    "print(hex_text)\n",
    "\n",
    "# Iterate through the bytes and print their binary representation\n",
    "i = 1\n",
    "print(\"UTF-16-le Bits:\")\n",
    "for byte in utf16le_bytes:\n",
    "    print(f\"Byte {i:2d} - {byte:08b}\")\n",
    "    i = i + 1\n",
    "\n",
    "decoded_text = utf16le_bytes.decode('utf-16-le') # Decode the UTF-16 little endian bytes back to a Unicode string\n",
    "print(f\"Decoded Text: {decoded_text}\")"
   ]
  },
  {
   "cell_type": "code",
   "execution_count": null,
   "id": "442c9c5a",
   "metadata": {},
   "outputs": [],
   "source": [
    "# Unicode demo for UTF-16 big endian\n",
    "\n",
    "import math\n",
    "\n",
    "utf16be_bytes = text.encode('utf-16-be') # Encode the string to UTF-16 big endian bytes\n",
    "hex_text = utf16be_bytes.hex() # UTF-16 bytes in hex\n",
    "\n",
    "print(f\" Demo for UTF-16 big endian with the string '{text}'\")\n",
    "print(hex_text)\n",
    "\n",
    "# Iterate through the bytes and print their binary representation\n",
    "i = 1\n",
    "print(\"UTF-16-be Bits:\")\n",
    "for byte in utf16be_bytes:\n",
    "    print(f\"Byte {i:2d} - {byte:08b}\")\n",
    "    i = i + 1\n",
    "\n",
    "decoded_text = utf16be_bytes.decode('utf-16-be') # Decode the UTF-16 little bytes back to a Unicode string\n",
    "print(f\"Decoded Text: {decoded_text}\")"
   ]
  },
  {
   "cell_type": "code",
   "execution_count": null,
   "id": "dcc81d31",
   "metadata": {},
   "outputs": [],
   "source": [
    "string_iso_8859_1 = \"ö\"\n",
    "\n",
    "string_unicode = string_iso_8859_1.decode(\"utf-8\")\n",
    "string_iso_8859_1 = string_iso_8859_1.decode(\"iso-8859-1\")\n",
    "\n",
    "print(string_unicode)"
   ]
  },
  {
   "cell_type": "code",
   "execution_count": null,
   "id": "34c76b65",
   "metadata": {},
   "outputs": [],
   "source": []
  }
 ],
 "metadata": {
  "kernelspec": {
   "display_name": "Python 3 (ipykernel)",
   "language": "python",
   "name": "python3"
  },
  "language_info": {
   "codemirror_mode": {
    "name": "ipython",
    "version": 3
   },
   "file_extension": ".py",
   "mimetype": "text/x-python",
   "name": "python",
   "nbconvert_exporter": "python",
   "pygments_lexer": "ipython3",
   "version": "3.11.5"
  }
 },
 "nbformat": 4,
 "nbformat_minor": 5
}
