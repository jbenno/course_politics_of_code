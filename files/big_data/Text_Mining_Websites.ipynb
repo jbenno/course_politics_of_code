{
 "cells": [
  {
   "cell_type": "markdown",
   "metadata": {},
   "source": [
    "# Scraping Websites for Text Content"
   ]
  },
  {
   "cell_type": "code",
   "execution_count": null,
   "metadata": {
    "scrolled": false
   },
   "outputs": [],
   "source": [
    "from bs4 import BeautifulSoup # the library that provides the HTTP calls etc.\n",
    "import requests\n",
    "\n",
    "\n",
    "url = \"https://research.google/research/pubs/\" # The url we want to scrape\n",
    "reqs = requests.get(url) # open the page and get the html\n",
    "soup = BeautifulSoup(reqs.text ,\"html.parser\") # parse html\n",
    "links = [l.get(\"href\") for l in soup.find_all(\"a\")] # identify the links\n",
    "links = [l for l in links if (l is not None)] # filter the empty links\n",
    "\n",
    "\n",
    "links"
   ]
  },
  {
   "cell_type": "code",
   "execution_count": null,
   "metadata": {},
   "outputs": [],
   "source": [
    "# We inspect the htmp source code of the website to identify where to find what we want to crawl\n",
    "\n",
    "\n",
    "url = \"https://research.google/pubs/?&category=2024\" # The url we want to scrape\n",
    "reqs = requests.get(url) # open the page and get the html\n",
    "soup = BeautifulSoup(reqs.text ,\"html.parser\") # parse html\n",
    "links = [l.get(\"href\") for l in soup.find_all(\"a\", class_= \"row-card__heading headline-6 glue-link\")] # identify the links\n",
    "links = [l for l in links if (l is not None)] # filter the empty links\n",
    "\n",
    "\n",
    "links"
   ]
  },
  {
   "cell_type": "markdown",
   "metadata": {},
   "source": [
    "#### Get the titles and abstracts"
   ]
  },
  {
   "cell_type": "code",
   "execution_count": null,
   "metadata": {},
   "outputs": [],
   "source": [
    "from bs4 import BeautifulSoup\n",
    "import urllib.request\n",
    "\n",
    "title = list()\n",
    "abstract = list()\n",
    "\n",
    "\n",
    "for l in links:\n",
    "    try:\n",
    "        html = urllib.request.urlopen(l)\n",
    "    except Exception as e:\n",
    "        print(e)\n",
    "    else:\n",
    "        for l in links:\n",
    "            raw = html.read() \n",
    "            soup = BeautifulSoup(raw) \n",
    "            title = title + [t.string.strip() for t in soup.find_all(\"h1\")]\n",
    "            try:\n",
    "                abstract = abstract + [a.string.strip() for a in soup.find_all(\"p\")]\n",
    "            except Exception as e:\n",
    "                print(e)\n",
    "                continue\n",
    "                \n",
    "title"
   ]
  },
  {
   "cell_type": "code",
   "execution_count": null,
   "metadata": {},
   "outputs": [],
   "source": [
    "papers = list(zip(title, abstract))\n",
    "papers"
   ]
  },
  {
   "cell_type": "markdown",
   "metadata": {},
   "source": [
    "#### Analyze with nltk"
   ]
  },
  {
   "cell_type": "code",
   "execution_count": null,
   "metadata": {},
   "outputs": [],
   "source": [
    "words = [ w.lower() for t in abstract for w in t.split() ]\n",
    "\n",
    "words[:10]"
   ]
  },
  {
   "cell_type": "code",
   "execution_count": null,
   "metadata": {},
   "outputs": [],
   "source": [
    "import nltk # Natural Language Tool Kit\n",
    "nltk.download('punkt')"
   ]
  },
  {
   "cell_type": "code",
   "execution_count": null,
   "metadata": {},
   "outputs": [],
   "source": [
    "# We use the nltk to filter out certain words we don't want in our analysis\n",
    "\n",
    "stop = nltk.corpus.stopwords.words('english')\n",
    "words_without_stopwords = [i for i in words if i not in stop]\n",
    "print (words_without_stopwords[:10])"
   ]
  },
  {
   "cell_type": "code",
   "execution_count": null,
   "metadata": {},
   "outputs": [],
   "source": [
    "from nltk.collocations import *\n",
    "\n",
    "bigram_measures = nltk.collocations.BigramAssocMeasures()\n",
    "\n",
    "\n",
    "raw = \" \".join(title)\n",
    "tokens = nltk.word_tokenize(raw)\n",
    "text = nltk.Text(tokens)\n",
    "\n",
    "finder = BigramCollocationFinder.from_words(text)\n",
    "finder.nbest(bigram_measures.pmi, 10)"
   ]
  },
  {
   "cell_type": "code",
   "execution_count": null,
   "metadata": {},
   "outputs": [],
   "source": [
    "from prettytable import PrettyTable\n",
    "from collections import Counter \n",
    "\n",
    "porter = nltk.PorterStemmer()\n",
    "text_stemmed = [porter.stem(t).lower() for t in tokens if t not in stop]\n",
    "\n",
    "pt = PrettyTable(field_names=['Stem', 'Frequency']) \n",
    "c = Counter(text_stemmed)\n",
    "[ pt.add_row(kv) for kv in c.most_common()[:20] ]\n",
    "pt.align['Wortstamm'], pt.align['Häufigkeit'] = 'l', 'r' # Set column alignment\n",
    "print(pt)"
   ]
  },
  {
   "cell_type": "code",
   "execution_count": null,
   "metadata": {},
   "outputs": [],
   "source": [
    "import nltk\n",
    "nltk.download('wordnet')"
   ]
  },
  {
   "cell_type": "code",
   "execution_count": null,
   "metadata": {},
   "outputs": [],
   "source": [
    "from prettytable import PrettyTable\n",
    "\n",
    "wnl = nltk.WordNetLemmatizer()\n",
    "tokens_lower = [w.lower() for w in tokens]\n",
    "text_lemmata = [wnl.lemmatize(t) for t in tokens_lower if t not in stop]\n",
    "\n",
    "text_lemmata = filter(lambda word: word not in ',-:', text_lemmata)\n",
    "\n",
    "pt = PrettyTable(field_names=['Lemma', 'Frequency']) \n",
    "c = Counter(text_lemmata)\n",
    "[ pt.add_row(kv) for kv in c.most_common()[:20] ]\n",
    "pt.align['Stem'], pt.align['Frequency'] = 'l', 'r' # Set column alignment\n",
    "print(pt)"
   ]
  },
  {
   "cell_type": "code",
   "execution_count": null,
   "metadata": {},
   "outputs": [],
   "source": [
    "text.concordance('learning')"
   ]
  },
  {
   "cell_type": "code",
   "execution_count": null,
   "metadata": {},
   "outputs": [],
   "source": [
    "print(text.similar(\"\"))"
   ]
  },
  {
   "cell_type": "code",
   "execution_count": null,
   "metadata": {},
   "outputs": [],
   "source": []
  }
 ],
 "metadata": {
  "kernelspec": {
   "display_name": "Python 3 (ipykernel)",
   "language": "python",
   "name": "python3"
  },
  "language_info": {
   "codemirror_mode": {
    "name": "ipython",
    "version": 3
   },
   "file_extension": ".py",
   "mimetype": "text/x-python",
   "name": "python",
   "nbconvert_exporter": "python",
   "pygments_lexer": "ipython3",
   "version": "3.11.5"
  }
 },
 "nbformat": 4,
 "nbformat_minor": 1
}
