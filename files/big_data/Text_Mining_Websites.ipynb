{
 "cells": [
  {
   "cell_type": "markdown",
   "metadata": {},
   "source": [
    "# Scraping"
   ]
  },
  {
   "cell_type": "markdown",
   "metadata": {},
   "source": [
    "#### Look at the Links"
   ]
  },
  {
   "cell_type": "code",
   "execution_count": null,
   "metadata": {
    "scrolled": false
   },
   "outputs": [],
   "source": [
    "from bs4 import BeautifulSoup # the library that provides the HTTP calls etc.\n",
    "from urllib.request import urlopen\n",
    "\n",
    "\n",
    "url = \"https://ai.google/research/pubs/?year=2019\" # The url we want to scrape\n",
    "raw = urlopen(url).read() # open the page and get the html\n",
    "soup = BeautifulSoup(raw ,\"html.parser\") # parse html\n",
    "links = [l.get(\"href\") for l in soup.find_all(\"a\")] # identify the links\n",
    "links = [l for l in links if (l is not None)] # filter the empty links\n",
    "\n",
    "\n",
    "links"
   ]
  },
  {
   "cell_type": "markdown",
   "metadata": {},
   "source": [
    "#### Just to check: Getting a page, parsing the html code, looking at the html"
   ]
  },
  {
   "cell_type": "code",
   "execution_count": null,
   "metadata": {},
   "outputs": [],
   "source": [
    "from bs4 import BeautifulSoup\n",
    "import urllib.request\n",
    "import ssl\n",
    "\n",
    "ssl._create_default_https_context = ssl._create_unverified_context\n",
    "\n",
    "html = urllib.request.urlopen(\"https://research.google/pubs/pub47724/\")\n",
    "\n",
    "raw = html.read() \n",
    "soup = BeautifulSoup(raw) \n",
    "print(raw)"
   ]
  },
  {
   "cell_type": "markdown",
   "metadata": {},
   "source": [
    "### Scraping a list of pages"
   ]
  },
  {
   "cell_type": "markdown",
   "metadata": {},
   "source": [
    "#### Creating a list of links"
   ]
  },
  {
   "cell_type": "code",
   "execution_count": null,
   "metadata": {},
   "outputs": [],
   "source": [
    "j=47700 \n",
    "paperLinks = []\n",
    "\n",
    "for i in range(10):\n",
    "    paperLinks.append(\"https://ai.google/research/pubs/pub\" + str(j))\n",
    "    j=j+1\n",
    "    \n",
    "    \n",
    "paperLinks"
   ]
  },
  {
   "cell_type": "markdown",
   "metadata": {},
   "source": [
    "#### Get the titles and abstracts"
   ]
  },
  {
   "cell_type": "code",
   "execution_count": null,
   "metadata": {
    "scrolled": true
   },
   "outputs": [],
   "source": [
    "from bs4 import BeautifulSoup\n",
    "import urllib.request\n",
    "\n",
    "title = list()\n",
    "abstract = list()\n",
    "\n",
    "import ssl\n",
    "\n",
    "ssl._create_default_https_context = ssl._create_unverified_context\n",
    "\n",
    "for l in paperLinks:\n",
    "    try:\n",
    "        html = urllib.request.urlopen(l)\n",
    "    except Exception as e:\n",
    "        print(e)\n",
    "    else:\n",
    "        for l in paperLinks:\n",
    "            raw = html.read() \n",
    "            soup = BeautifulSoup(raw) \n",
    "            try:\n",
    "               for t in soup.find_all(\"meta\"):\n",
    "                    if t.get(\"name\", None) == \"citation_title\":\n",
    "                        title.append(t.get(\"content\", None))\n",
    "            except Exception as e:\n",
    "                print(e)\n",
    "                continue\n",
    "            try:\n",
    "                abstract = abstract + [a.string.strip() for a in soup.find_all(\"p\")]\n",
    "            except Exception as e:\n",
    "                print(e)\n",
    "                continue"
   ]
  },
  {
   "cell_type": "code",
   "execution_count": null,
   "metadata": {},
   "outputs": [],
   "source": [
    "title"
   ]
  },
  {
   "cell_type": "code",
   "execution_count": null,
   "metadata": {},
   "outputs": [],
   "source": [
    "abstract"
   ]
  },
  {
   "cell_type": "code",
   "execution_count": null,
   "metadata": {},
   "outputs": [],
   "source": [
    "papers = list(zip(title, abstract))\n",
    "print(papers)"
   ]
  },
  {
   "cell_type": "markdown",
   "metadata": {},
   "source": [
    "### Analysing the content"
   ]
  },
  {
   "cell_type": "code",
   "execution_count": null,
   "metadata": {},
   "outputs": [],
   "source": [
    "words = [ w.lower() for t in abstract for w in t.split() ]\n",
    "words[:20]"
   ]
  },
  {
   "cell_type": "code",
   "execution_count": null,
   "metadata": {},
   "outputs": [],
   "source": [
    "import nltk\n",
    "nltk.download('punkt')"
   ]
  },
  {
   "cell_type": "code",
   "execution_count": null,
   "metadata": {},
   "outputs": [],
   "source": [
    "stop = nltk.corpus.stopwords.words('english')\n",
    "words_without_stopwords = [i for i in words if i not in stop]\n",
    "print (words_without_stopwords[:10])"
   ]
  },
  {
   "cell_type": "code",
   "execution_count": null,
   "metadata": {},
   "outputs": [],
   "source": [
    "from nltk.collocations import *\n",
    "bigram_measures = nltk.collocations.BigramAssocMeasures()\n",
    "\n",
    "\n",
    "raw = \" \".join(abstract)\n",
    "tokens = nltk.word_tokenize(raw)\n",
    "text = nltk.Text(tokens)\n",
    "\n",
    "finder = BigramCollocationFinder.from_words(text)\n",
    "finder.nbest(bigram_measures.pmi, 10)"
   ]
  },
  {
   "cell_type": "code",
   "execution_count": null,
   "metadata": {},
   "outputs": [],
   "source": [
    "text.concordance('learning')"
   ]
  },
  {
   "cell_type": "code",
   "execution_count": null,
   "metadata": {},
   "outputs": [],
   "source": [
    "print(text.similar(\"effective\"))"
   ]
  }
 ],
 "metadata": {
  "kernelspec": {
   "display_name": "Python 3",
   "language": "python",
   "name": "python3"
  },
  "language_info": {
   "codemirror_mode": {
    "name": "ipython",
    "version": 3
   },
   "file_extension": ".py",
   "mimetype": "text/x-python",
   "name": "python",
   "nbconvert_exporter": "python",
   "pygments_lexer": "ipython3",
   "version": "3.7.4"
  }
 },
 "nbformat": 4,
 "nbformat_minor": 1
}
