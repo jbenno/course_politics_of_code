{
 "cells": [
  {
   "cell_type": "code",
   "execution_count": null,
   "metadata": {},
   "outputs": [],
   "source": [
    "'''\n",
    "Demo for hashes and nonces\n",
    "'''\n",
    "\n",
    "import hashlib\n",
    "\n",
    "inputStr = \"Hello World!\"\n",
    "nonce = \"4250\"\n",
    "\n",
    "testStr = inputStr + nonce\n",
    "testBytes = bytes(testStr, 'utf-8')\n",
    "hHex = hashlib.sha256(testBytes).hexdigest()\n",
    "\n",
    "print (\"String: \", inputStr, \" Nonce: \", nonce)\n",
    "print (\"\\n\")\n",
    "print (\"Sha256 in Hex:  \", hHex)\n",
    "print (\"... in decimal: \", \"{:e}\".format(int(hHex,16)))\n",
    "h = int(hHex,16)\n",
    "res = bin(h).zfill(256)\n",
    "print (\"\\n\")\n",
    "print (\"... in Bin:\")\n",
    "print (res)"
   ]
  },
  {
   "cell_type": "code",
   "execution_count": null,
   "metadata": {
    "scrolled": true
   },
   "outputs": [],
   "source": [
    "'''\n",
    "Demo for hashcash as used in the Bitcoin blockchain.\n",
    "'''\n",
    "\n",
    "import hashlib\n",
    "import secrets\n",
    " \n",
    "filename = \"/Users/jbenno/temp/email.html\" #input(\" \")\n",
    "with open(filename,\"rb\") as f:\n",
    "    inputBytes = f.read() # read entire file as bytes\n",
    "\n",
    "h = int(hashlib.sha256(inputBytes).hexdigest(),16)\n",
    "difficulty = 2**256\n",
    "i = 0\n",
    "\n",
    "while h > difficulty:\n",
    "    nonce = secrets.token_urlsafe(32)\n",
    "    nonceBytes = bytes(nonce, 'utf-8')\n",
    "    testBytes = inputBytes + nonceBytes\n",
    "    h = int(hashlib.sha256(testBytes).hexdigest(),16)\n",
    "    i = i + 1\n",
    "    \n",
    "print (\"No. of iterations: \", i)\n",
    "print (\"The successful nonce: \", nonce)\n",
    "print (\"\\n\")\n",
    "print (\"Sha256: \", h)\n",
    "print (\" = \", \"{:e}\".format(h))\n",
    "hbin = bin(h).zfill(256)\n",
    "print (\"\\n\")\n",
    "print (\"... in Bin:\")\n",
    "print (hbin)"
   ]
  },
  {
   "cell_type": "code",
   "execution_count": null,
   "metadata": {},
   "outputs": [],
   "source": [
    "# Python code to demonstrate \n",
    "# conversion of a hex string\n",
    "# to the binary string\n",
    "  \n",
    "# Initialising hex string\n",
    "ini_string = \"00000000000000000000984ba8eeba0d95c4493c441773d24f34af5d6deab8ce\"\n",
    "scale = 16\n",
    "  \n",
    "# Printing initial string\n",
    "print (\"Initial string\", ini_string)\n",
    "  \n",
    "# Code to convert hex to binary\n",
    "res = bin(int(ini_string, scale)).zfill(256)\n",
    "  \n",
    "# Print the resultant string\n",
    "print (\"Resultant string\", str(res))"
   ]
  },
  {
   "cell_type": "code",
   "execution_count": null,
   "metadata": {},
   "outputs": [],
   "source": [
    "p = 115792089237316195423570985008687907853269984665640564039457584007908834671663\n",
    "\n",
    "x1 = (x0 ** 3 + 7 - y0**2)"
   ]
  },
  {
   "cell_type": "code",
   "execution_count": null,
   "metadata": {},
   "outputs": [],
   "source": []
  }
 ],
 "metadata": {
  "kernelspec": {
   "display_name": "Python 3 (ipykernel)",
   "language": "python",
   "name": "python3"
  },
  "language_info": {
   "codemirror_mode": {
    "name": "ipython",
    "version": 3
   },
   "file_extension": ".py",
   "mimetype": "text/x-python",
   "name": "python",
   "nbconvert_exporter": "python",
   "pygments_lexer": "ipython3",
   "version": "3.11.5"
  }
 },
 "nbformat": 4,
 "nbformat_minor": 2
}
