{
 "cells": [
  {
   "cell_type": "code",
   "execution_count": 7,
   "metadata": {},
   "outputs": [
    {
     "name": "stdout",
     "output_type": "stream",
     "text": [
      "String:  Hello World!  Nonce:  4250\n",
      "\n",
      "\n",
      "Sha256 in Hex:   002f72cce9ba77f388bca4165791d4cf92c69b84fa5c5f6de2781b3365e632e7\n",
      "... in decimal:  8.383414e+73\n",
      "\n",
      "\n",
      "... in Bin:\n",
      "000000000b101111011100101100110011101001101110100111011111110011100010001011110010100100000101100101011110010001110101001100111110010010110001101001101110000100111110100101110001011111011011011110001001111000000110110011001101100101111001100011001011100111\n"
     ]
    }
   ],
   "source": [
    "'''\n",
    "Demo for hashes and nonces\n",
    "'''\n",
    "\n",
    "import hashlib\n",
    "\n",
    "inputStr = \"Hello World!\"\n",
    "nonce = \"4250\"\n",
    "\n",
    "testStr = inputStr + nonce\n",
    "testBytes = bytes(testStr, 'utf-8')\n",
    "hHex = hashlib.sha256(testBytes).hexdigest()\n",
    "\n",
    "print (\"String: \", inputStr, \" Nonce: \", nonce)\n",
    "print (\"\\n\")\n",
    "print (\"Sha256 in Hex:  \", hHex)\n",
    "print (\"... in decimal: \", \"{:e}\".format(int(hHex,16)))\n",
    "h = int(hHex,16)\n",
    "res = bin(h).zfill(256)\n",
    "print (\"\\n\")\n",
    "print (\"... in Bin:\")\n",
    "print (res)"
   ]
  },
  {
   "cell_type": "code",
   "execution_count": 18,
   "metadata": {
    "scrolled": true
   },
   "outputs": [
    {
     "name": "stdout",
     "output_type": "stream",
     "text": [
      "195337808446726860527366146479375668900024757723420052226336225150444063\n",
      "No. of iterations:  54675\n",
      "The successful nonce:  KvO2aHSFyxBdH7H4LcGwSQXE-xp_IJWyg2adPBzyO-M\n",
      "\n",
      "\n",
      "Sha256:  195337808446726860527366146479375668900024757723420052226336225150444063\n",
      " =  1.953378e+71\n",
      "\n",
      "\n",
      "... in Bin:\n",
      "000000000000000000b111000100110101111011011001001011011011001010000110001110101110011100000011101111110100101011001111010001010100001010000010001011011011111001110000000011001110101110000100111110101010111000010001000100110111110101101101010010001000011111\n"
     ]
    }
   ],
   "source": [
    "'''\n",
    "Demo for hashcash as used in the Bitcoin blockchain.\n",
    "'''\n",
    "\n",
    "import hashlib\n",
    "import secrets\n",
    "\n",
    "from bs4 import BeautifulSoup # two libraries to handle the url request\n",
    "from urllib.request import urlopen\n",
    "\n",
    " \n",
    "url = \"http://examples.f3c.me/spam_example.html\" #input(\" \")\n",
    "\n",
    "raw = urlopen(url).read() # open the page and get the html\n",
    "soup = BeautifulSoup(raw ,\"html.parser\")\n",
    "text = soup.get_text()\n",
    "    \n",
    "inputBytes = bytes(text, 'utf-8') # read entire file as bytes\n",
    "\n",
    "h = int(hashlib.sha256(inputBytes).hexdigest(),16)\n",
    "difficulty = 2**240\n",
    "i = 0\n",
    "\n",
    "while h > difficulty:\n",
    "    nonce = secrets.token_urlsafe(32)\n",
    "    nonceBytes = bytes(nonce, 'utf-8')\n",
    "    testBytes = inputBytes + nonceBytes\n",
    "    h = int(hashlib.sha256(testBytes).hexdigest(),16)\n",
    "    i = i + 1\n",
    "\n",
    "print (\"No. of iterations: \", i)\n",
    "print (\"The successful nonce: \", nonce)\n",
    "print (\"\\n\")\n",
    "print (\"Sha256: \", h)\n",
    "print (\" = \", \"{:e}\".format(h))\n",
    "hbin = bin(h).zfill(256)\n",
    "print (\"\\n\")\n",
    "print (\"... in Bin:\")\n",
    "print (hbin)"
   ]
  },
  {
   "cell_type": "code",
   "execution_count": 19,
   "metadata": {},
   "outputs": [
    {
     "name": "stdout",
     "output_type": "stream",
     "text": [
      "Initial string 00000000000000000000984ba8eeba0d95c4493c441773d24f34af5d6deab8ce\n",
      "Resultant string 0000000000000000000000000000000000000000000000000000000000000000000000000000000b10011000010010111010100011101110101110100000110110010101110001000100100100111100010001000001011101110011110100100100111100110100101011110101110101101101111010101011100011001110\n"
     ]
    }
   ],
   "source": [
    "# Python code to demonstrate \n",
    "# conversion of a hex string\n",
    "# to the binary string\n",
    "  \n",
    "# Initialising hex string\n",
    "ini_string = \"00000000000000000000984ba8eeba0d95c4493c441773d24f34af5d6deab8ce\"\n",
    "scale = 16\n",
    "  \n",
    "# Printing initial string\n",
    "print (\"Initial string\", ini_string)\n",
    "  \n",
    "# Code to convert hex to binary\n",
    "res = bin(int(ini_string, scale)).zfill(256)\n",
    "  \n",
    "# Print the resultant string\n",
    "print (\"Resultant string\", str(res))"
   ]
  },
  {
   "cell_type": "code",
   "execution_count": 20,
   "metadata": {},
   "outputs": [
    {
     "ename": "NameError",
     "evalue": "name 'x0' is not defined",
     "output_type": "error",
     "traceback": [
      "\u001b[0;31m---------------------------------------------------------------------------\u001b[0m",
      "\u001b[0;31mNameError\u001b[0m                                 Traceback (most recent call last)",
      "Cell \u001b[0;32mIn[20], line 3\u001b[0m\n\u001b[1;32m      1\u001b[0m p \u001b[38;5;241m=\u001b[39m \u001b[38;5;241m115792089237316195423570985008687907853269984665640564039457584007908834671663\u001b[39m\n\u001b[0;32m----> 3\u001b[0m x1 \u001b[38;5;241m=\u001b[39m (x0 \u001b[38;5;241m*\u001b[39m\u001b[38;5;241m*\u001b[39m \u001b[38;5;241m3\u001b[39m \u001b[38;5;241m+\u001b[39m \u001b[38;5;241m7\u001b[39m \u001b[38;5;241m-\u001b[39m y0\u001b[38;5;241m*\u001b[39m\u001b[38;5;241m*\u001b[39m\u001b[38;5;241m2\u001b[39m)\n",
      "\u001b[0;31mNameError\u001b[0m: name 'x0' is not defined"
     ]
    }
   ],
   "source": [
    "p = 115792089237316195423570985008687907853269984665640564039457584007908834671663\n",
    "\n",
    "x1 = (x0 ** 3 + 7 - y0**2)"
   ]
  },
  {
   "cell_type": "code",
   "execution_count": null,
   "metadata": {},
   "outputs": [],
   "source": []
  }
 ],
 "metadata": {
  "kernelspec": {
   "display_name": "Python 3 (ipykernel)",
   "language": "python",
   "name": "python3"
  },
  "language_info": {
   "codemirror_mode": {
    "name": "ipython",
    "version": 3
   },
   "file_extension": ".py",
   "mimetype": "text/x-python",
   "name": "python",
   "nbconvert_exporter": "python",
   "pygments_lexer": "ipython3",
   "version": "3.11.5"
  }
 },
 "nbformat": 4,
 "nbformat_minor": 2
}
